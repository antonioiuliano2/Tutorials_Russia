{
 "cells": [
  {
   "cell_type": "code",
   "execution_count": 1,
   "metadata": {},
   "outputs": [],
   "source": [
    "import uproot\n",
    "import matplotlib.pyplot as plt\n",
    "import numpy as np"
   ]
  },
  {
   "cell_type": "code",
   "execution_count": 14,
   "metadata": {},
   "outputs": [],
   "source": [
    "def to_csv(hist,filename):\n",
    "    '''saving data from a matplotlib histogram in csv'''\n",
    "    outputfile = open(filename,\"w\")\n",
    "    outputfile.write(\"E,N \\n\")\n",
    "    for E, N in zip(hist[1],hist[0]):\n",
    "        outputfile.write(\"{},{} \\n\".format(E,N))\n",
    "    outputfile.close()"
   ]
  },
  {
   "cell_type": "code",
   "execution_count": 3,
   "metadata": {},
   "outputs": [],
   "source": [
    "num = 100\n",
    "min_int = 0.01\n",
    "max_int = 5000\n",
    "logspace = np.logspace(np.log10(min_int), np.log10(max_int), num, endpoint=True)"
   ]
  },
  {
   "cell_type": "markdown",
   "metadata": {},
   "source": [
    "## Proiezione spettri al rivelatore\n",
    "Considerando la posizione del rivelatore"
   ]
  },
  {
   "cell_type": "code",
   "execution_count": 4,
   "metadata": {},
   "outputs": [
    {
     "data": {
      "image/png": "[encoded data removed]",
      "text/plain": [
       "<Figure size 432x288 with 1 Axes>"
      ]
     },
     "metadata": {
      "needs_background": "light"
     },
     "output_type": "display_data"
    }
   ],
   "source": [
    "input_file_antiel = uproot.open(\"AntiNeutElec.root\")\n",
    "antiel = input_file_antiel[\"t\"]\n",
    "kin_antiel = antiel[\"Ekin\"].array()\n",
    "x_antiel, y_antiel = antiel[\"x\"].array(), antiel[\"y\"].array()\n",
    "weight_antiel = antiel[\"weight\"].array()\n",
    "\n",
    "xmin = -47.6\n",
    "xmax = -8.0\n",
    "\n",
    "ymin = 15.5\n",
    "ymax = 55.1\n",
    "\n",
    "# selezioni i neutrini che arrivano al rivelatore\n",
    "kin_antiel = kin_antiel[\n",
    "    np.logical_and(\n",
    "        np.logical_and(x_antiel < xmax, x_antiel > xmin),\n",
    "        np.logical_and(y_antiel < ymax, y_antiel > ymin),\n",
    "    )\n",
    "]\n",
    "\n",
    "x_antiel1 = x_antiel[\n",
    "    np.logical_and(\n",
    "        np.logical_and(x_antiel < xmax, x_antiel > xmin),\n",
    "        np.logical_and(y_antiel < ymax, y_antiel > ymin),\n",
    "    )\n",
    "]\n",
    "\n",
    "y_antiel1 = y_antiel[\n",
    "    np.logical_and(\n",
    "        np.logical_and(x_antiel < xmax, x_antiel > xmin),\n",
    "        np.logical_and(y_antiel < ymax, y_antiel > ymin),\n",
    "    )\n",
    "]\n",
    "\n",
    "weight_antiel = weight_antiel[\n",
    "    np.logical_and(\n",
    "        np.logical_and(x_antiel < xmax, x_antiel > xmin),\n",
    "        np.logical_and(y_antiel < ymax, y_antiel > ymin),\n",
    "    )\n",
    "]\n",
    "norm_antiel = 214285714\n",
    "\n",
    "weight_antiel_1 = weight_antiel[weight_antiel == 1]\n",
    "kin_antiel_1 = kin_antiel[weight_antiel == 1]\n",
    "weight_antiel_not1 = weight_antiel[weight_antiel != 1]\n",
    "kin_antiel_not1 = kin_antiel[weight_antiel != 1]\n",
    "\n",
    "\n",
    "# spettro antielettronici\n",
    "\n",
    "norm_antiel = 214285714\n",
    "\n",
    "values_antiel = plt.hist(\n",
    "    kin_antiel, bins=logspace, weights=weight_antiel * norm_antiel,\n",
    "    color=\"white\", edgecolor=\"steelblue\",  histtype=\"step\", linestyle=\"--\", label=\"anti-e\",\n",
    "    log=True,\n",
    ")\n",
    "\n",
    "plt.xlabel(\"E [Gev]\")\n",
    "plt.ylabel(\"Counts\")\n",
    "# plt.xscale('linear')\n",
    "plt.xscale(\"log\")\n",
    "plt.yscale(\"log\")\n",
    "\n",
    "plt.xlim([5, 10000])\n",
    "# plt.ylim([10**4,10**12])\n",
    "# plt.xlim([50,1000])\n",
    "plt.grid(\"True\")\n",
    "\n",
    "plt.title(\"Spettro\")\n",
    "plt.show()\n"
   ]
  },
  {
   "cell_type": "markdown",
   "metadata": {},
   "source": [
    "### Spettro antineutrini muonici"
   ]
  },
  {
   "cell_type": "code",
   "execution_count": 5,
   "metadata": {},
   "outputs": [
    {
     "data": {
      "image/png": "[encoded data removed]",
      "text/plain": [
       "<Figure size 432x288 with 1 Axes>"
      ]
     },
     "metadata": {
      "needs_background": "light"
     },
     "output_type": "display_data"
    }
   ],
   "source": [
    "input_file_antimu = uproot.open(\"AntiNeutMuon.root\")\n",
    "antimu = input_file_antimu[\"t\"]\n",
    "kin_antimu = antimu[\"Ekin\"].array()\n",
    "x_antimu, y_antimu = antimu[\"x\"].array(), antimu[\"y\"].array()\n",
    "weight_antimu = antimu[\"weight\"].array()\n",
    "\n",
    "xmin = -47.6\n",
    "xmax = -8.0\n",
    "\n",
    "ymin = 15.5\n",
    "ymax = 55.1\n",
    "\n",
    "# selezioni i neutrini che arrivano al rivelatore\n",
    "kin_antimu = kin_antimu[\n",
    "    np.logical_and(\n",
    "        np.logical_and(x_antimu < xmax, x_antimu > xmin),\n",
    "        np.logical_and(y_antimu < ymax, y_antimu > ymin),\n",
    "    )\n",
    "]\n",
    "\n",
    "x_antimu1 = x_antimu[\n",
    "    np.logical_and(\n",
    "        np.logical_and(x_antimu < xmax, x_antimu > xmin),\n",
    "        np.logical_and(y_antimu < ymax, y_antimu > ymin),\n",
    "    )\n",
    "]\n",
    "\n",
    "y_antimu1 = y_antimu[\n",
    "    np.logical_and(\n",
    "        np.logical_and(x_antimu < xmax, x_antimu > xmin),\n",
    "        np.logical_and(y_antimu < ymax, y_antimu > ymin),\n",
    "    )\n",
    "]\n",
    "\n",
    "weight_antimu = weight_antimu[\n",
    "    np.logical_and(\n",
    "        np.logical_and(x_antimu < xmax, x_antimu > xmin),\n",
    "        np.logical_and(y_antimu < ymax, y_antimu > ymin),\n",
    "    )\n",
    "]\n",
    "norm_antimu = 214285714\n",
    "\n",
    "weight_antimu_1 = weight_antimu[weight_antimu == 1]\n",
    "kin_antimu_1 = kin_antimu[weight_antimu == 1]\n",
    "weight_antimu_not1 = weight_antimu[weight_antimu != 1]\n",
    "kin_antimu_not1 = kin_antimu[weight_antimu != 1]\n",
    "\n",
    "\n",
    "# spettro antielettronici\n",
    "\n",
    "norm_antimu = 214285714\n",
    "\n",
    "values_antimu = plt.hist(\n",
    "    kin_antimu, bins=logspace, weights=weight_antimu * norm_antimu,\n",
    "    color=\"white\", edgecolor=\"steelblue\",  histtype=\"step\", linestyle=\"--\", label=\"anti-mu\",\n",
    "    log=True,\n",
    ")\n",
    "\n",
    "plt.xlabel(\"E [Gev]\")\n",
    "plt.ylabel(\"Counts\")\n",
    "# plt.xscale('linear')\n",
    "plt.xscale(\"log\")\n",
    "plt.yscale(\"log\")\n",
    "\n",
    "plt.xlim([5, 10000])\n",
    "# plt.ylim([10**4,10**12])\n",
    "# plt.xlim([50,1000])\n",
    "plt.grid(\"True\")\n",
    "\n",
    "plt.title(\"Spettro\")\n",
    "plt.show()\n"
   ]
  },
  {
   "cell_type": "markdown",
   "metadata": {},
   "source": [
    "### Spettro neutrini elettronici"
   ]
  },
  {
   "cell_type": "code",
   "execution_count": 6,
   "metadata": {},
   "outputs": [
    {
     "data": {
      "image/png": "[encoded data removed]",
      "text/plain": [
       "<Figure size 432x288 with 1 Axes>"
      ]
     },
     "metadata": {
      "needs_background": "light"
     },
     "output_type": "display_data"
    }
   ],
   "source": [
    "input_file_el = uproot.open(\"NeutElec.root\")\n",
    "el = input_file_el[\"t\"]\n",
    "kin_el = el[\"Ekin\"].array()\n",
    "x_el, y_el = el[\"x\"].array(), el[\"y\"].array()\n",
    "weight_el = el[\"weight\"].array()\n",
    "\n",
    "kin_el = kin_el[\n",
    "    np.logical_and(\n",
    "        np.logical_and(x_el < xmax, x_el > xmin),\n",
    "        np.logical_and(y_el < ymax, y_el > ymin),\n",
    "    )\n",
    "]\n",
    "\n",
    "x_el1 = x_el[\n",
    "    np.logical_and(\n",
    "        np.logical_and(x_el < xmax, x_el > xmin),\n",
    "        np.logical_and(y_el < ymax, y_el > ymin),\n",
    "    )\n",
    "]\n",
    "\n",
    "y_el1 = y_el[\n",
    "    np.logical_and(\n",
    "        np.logical_and(x_el < xmax, x_el > xmin),\n",
    "        np.logical_and(y_el < ymax, y_el > ymin),\n",
    "    )\n",
    "]\n",
    "\n",
    "weight_el = weight_el[\n",
    "    np.logical_and(\n",
    "        np.logical_and(x_el < xmax, x_el > xmin),\n",
    "        np.logical_and(y_el < ymax, y_el > ymin),\n",
    "    )\n",
    "]\n",
    "\n",
    "# spettro elettronici\n",
    "\n",
    "norm_el = 214285714\n",
    "\n",
    "values_el = plt.hist(\n",
    "    kin_el, bins=logspace, weights=weight_el * norm_el,\n",
    "    color=\"white\", edgecolor=\"steelblue\", histtype=\"step\", linestyle=\"--\", label=\"anti-e\", log=True,\n",
    ")\n",
    "\n",
    "weight_el_1 = weight_el[weight_el == 1]\n",
    "kin_el_1 = kin_el[weight_el == 1]\n",
    "weight_el_not1 = weight_el[weight_el != 1]\n",
    "kin_el_not1 = kin_el[weight_el != 1]\n",
    "\n",
    "plt.xlabel(\"E [Gev]\")\n",
    "plt.ylabel(\"Counts\")\n",
    "# plt.xscale('linear')\n",
    "plt.xscale(\"log\")\n",
    "plt.yscale(\"log\")\n",
    "\n",
    "plt.xlim([5, 10000])\n",
    "plt.ylim([10 ** 8, 3 * 10 ** 10])\n",
    "# plt.ylim([10**4,10**12])\n",
    "# plt.xlim([50,1000])\n",
    "plt.grid(\"True\")\n",
    "\n",
    "plt.title(\"Spettro\")\n",
    "plt.show()\n"
   ]
  },
  {
   "cell_type": "markdown",
   "metadata": {},
   "source": [
    "### Spettro neutrini muonici"
   ]
  },
  {
   "cell_type": "code",
   "execution_count": 7,
   "metadata": {},
   "outputs": [
    {
     "data": {
      "image/png": "[encoded data removed]",
      "text/plain": [
       "<Figure size 432x288 with 1 Axes>"
      ]
     },
     "metadata": {
      "needs_background": "light"
     },
     "output_type": "display_data"
    }
   ],
   "source": [
    "input_file_mu = uproot.open(\"NeutMuon.root\")\n",
    "mu = input_file_mu[\"t\"]\n",
    "kin_mu = mu[\"Ekin\"].array()\n",
    "x_mu, y_mu = mu[\"x\"].array(), mu[\"y\"].array()\n",
    "weight_mu = mu[\"weight\"].array()\n",
    "\n",
    "kin_mu = kin_mu[\n",
    "    np.logical_and(\n",
    "        np.logical_and(x_mu < xmax, x_mu > xmin),\n",
    "        np.logical_and(y_mu < ymax, y_mu > ymin),\n",
    "    )\n",
    "]\n",
    "\n",
    "x_mu1 = x_mu[\n",
    "    np.logical_and(\n",
    "        np.logical_and(x_mu < xmax, x_mu > xmin),\n",
    "        np.logical_and(y_mu < ymax, y_mu > ymin),\n",
    "    )\n",
    "]\n",
    "\n",
    "y_mu1 = y_mu[\n",
    "    np.logical_and(\n",
    "        np.logical_and(x_mu < xmax, x_mu > xmin),\n",
    "        np.logical_and(y_mu < ymax, y_mu > ymin),\n",
    "    )\n",
    "]\n",
    "\n",
    "weight_mu = weight_mu[\n",
    "    np.logical_and(\n",
    "        np.logical_and(x_mu < xmax, x_mu > xmin),\n",
    "        np.logical_and(y_mu < ymax, y_mu > ymin),\n",
    "    )\n",
    "]\n",
    "\n",
    "# spettro elettronici\n",
    "\n",
    "norm_mu = 214285714\n",
    "\n",
    "values_mu = plt.hist(\n",
    "    kin_mu, bins=logspace, weights=weight_mu * norm_mu,\n",
    "    color=\"white\", edgecolor=\"steelblue\", histtype=\"step\", linestyle=\"--\", label=\"mu\", log=True,\n",
    ")\n",
    "\n",
    "weight_mu_1 = weight_mu[weight_mu == 1]\n",
    "kin_mu_1 = kin_mu[weight_mu == 1]\n",
    "weight_mu_not1 = weight_mu[weight_mu != 1]\n",
    "kin_mu_not1 = kin_mu[weight_mu != 1]\n",
    "\n",
    "plt.xlabel(\"E [Gev]\")\n",
    "plt.ylabel(\"Counts\")\n",
    "# plt.xscale('linear')\n",
    "plt.xscale(\"log\")\n",
    "plt.yscale(\"log\")\n",
    "\n",
    "plt.xlim([5, 10000])\n",
    "plt.ylim([10 ** 8, 3 * 10 ** 10])\n",
    "# plt.ylim([10**4,10**12])\n",
    "# plt.xlim([50,1000])\n",
    "plt.grid(\"True\")\n",
    "\n",
    "plt.title(\"Spettro\")\n",
    "plt.show()\n"
   ]
  },
  {
   "cell_type": "markdown",
   "metadata": {},
   "source": [
    "### Valori medi e numero di neutrini"
   ]
  },
  {
   "cell_type": "code",
   "execution_count": 8,
   "metadata": {},
   "outputs": [
    {
     "name": "stdout",
     "output_type": "stream",
     "text": [
      "elettronici E media 376.8554720245059\n",
      "elettronici numero 337619498413.5004\n",
      "anti-elettronici E media 388.56930232144595\n",
      "antielettronici numero 347814740038.172\n"
     ]
    }
   ],
   "source": [
    "# calcolo il valore medio in questo modo: il numero di neutrini compresi nel range energetico [a,b] fa da peso\n",
    "# per l'energia (a+b)/2\n",
    "\n",
    "\n",
    "\n",
    "en_spectrum_el = (values_el[1][0:-1] + values_el[1][1:]) / 2\n",
    "averagE_el = (en_spectrum_el * values_el[0]).sum() / values_el[0].sum()\n",
    "print( 'elettronici E media' , averagE_el )\n",
    "print( 'elettronici numero' , values_el[0].sum() )\n",
    "\n",
    "en_spectrum_antiel = ( values_antiel[1][0:-1] + values_antiel[1][1:] ) / 2\n",
    "averagE_antiel = (en_spectrum_antiel * values_antiel[0]).sum() / values_antiel[0].sum()\n",
    "print( 'anti-elettronici E media' , averagE_antiel )\n",
    "print( 'antielettronici numero' , values_antiel[0].sum() )\n",
    "\n"
   ]
  },
  {
   "cell_type": "code",
   "execution_count": 9,
   "metadata": {},
   "outputs": [],
   "source": []
  },
  {
   "cell_type": "markdown",
   "metadata": {},
   "source": [
    "### Dallo spettro passo alla funzione che descrive la luminosità integrata L_int in funzione dell'energia"
   ]
  },
  {
   "cell_type": "code",
   "execution_count": 10,
   "metadata": {},
   "outputs": [
    {
     "data": {
      "image/png": "[encoded data removed]",
      "text/plain": [
       "<Figure size 432x288 with 1 Axes>"
      ]
     },
     "metadata": {
      "needs_background": "light"
     },
     "output_type": "display_data"
    }
   ],
   "source": [
    "const = 8 * (10 ** 13)\n",
    "\n",
    "logspace2=logspace[0:-1]+logspace[1:]\n",
    "\n",
    "n_antiel, bins_antiel, patches_antiel = plt.hist(\n",
    "    kin_antiel,\n",
    "    bins=logspace2,\n",
    "    weights=weight_antiel / const * norm_el,\n",
    "    color=\"white\",\n",
    "    edgecolor=\"steelblue\",\n",
    "    histtype=\"step\",\n",
    "    linestyle=\"--\",\n",
    "    label=\"anti-e\",\n",
    "    log=True,\n",
    ")\n",
    "\n",
    "\n",
    "n_el, bins_el, patches_el = plt.hist(\n",
    "    kin_el,\n",
    "    bins=logspace2,\n",
    "    weights=weight_el / const * norm_el,\n",
    "    color=\"white\",\n",
    "    edgecolor=\"steelblue\",\n",
    "    histtype=\"step\",\n",
    "    linestyle=\"-\",\n",
    "    label=\"e\",\n",
    "    log=True,\n",
    ")\n",
    "\n",
    "plt.xlabel(\"E [Gev]\")\n",
    "plt.ylabel(\"L_int [fb^-1]\")\n",
    "plt.xscale(\"log\")\n",
    "plt.xlim([1, 5000])\n",
    "plt.grid(\"True\")\n",
    "plt.legend()\n",
    "plt.show()\n"
   ]
  },
  {
   "cell_type": "markdown",
   "metadata": {},
   "source": [
    "## Save to csv "
   ]
  },
  {
   "cell_type": "code",
   "execution_count": 15,
   "metadata": {},
   "outputs": [],
   "source": [
    "to_csv(values_el,\"nue_detector.csv\")\n",
    "to_csv(values_antiel,\"anue_detector.csv\")\n",
    "to_csv(values_mu,\"numu_detector.csv\")\n",
    "to_csv(values_antimu,\"anumu_detector.csv\")"
   ]
  },
  {
   "cell_type": "code",
   "execution_count": null,
   "metadata": {},
   "outputs": [],
   "source": []
  }
 ],
 "metadata": {
  "kernelspec": {
   "display_name": "Python 3",
   "language": "python",
   "name": "python3"
  },
  "language_info": {
   "codemirror_mode": {
    "name": "ipython",
    "version": 3
   },
   "file_extension": ".py",
   "mimetype": "text/x-python",
   "name": "python",
   "nbconvert_exporter": "python",
   "pygments_lexer": "ipython3",
   "version": "3.9.6"
  }
 },
 "nbformat": 4,
 "nbformat_minor": 4
}
